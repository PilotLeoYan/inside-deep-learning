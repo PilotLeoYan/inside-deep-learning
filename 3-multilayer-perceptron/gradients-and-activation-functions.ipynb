{
 "cells": [
  {
   "cell_type": "markdown",
   "metadata": {},
   "source": [
    "<h1>Gradients and activations functions</h1>"
   ]
  },
  {
   "cell_type": "markdown",
   "metadata": {},
   "source": [
    "<table align=\"left\">\n",
    "  <td>\n",
    "    <a target=\"_blank\" href=\"https://colab.research.google.com/github/PilotLeoYan/inside-deep-learning/blob/main/3-multilayer-perceptron/gradients-and-activation-functions.ipynb\">\n",
    "    <img src=\"../images/colab_logo.png\" width=\"32\">Open in Google Colab</a>\n",
    "  </td>\n",
    "  <td>\n",
    "    <a target=\"_blank\" href=\"https://nbviewer.org/github/PilotLeoYan/inside-deep-learning/blob/main/3-multilayer-perceptron/gradients-and-activation-functions.ipynb\">\n",
    "    <img src=\"../images/jupyter_logo.png\" width=\"32\">Open in Google Colab</a>\n",
    "  </td>\n",
    "</table>"
   ]
  },
  {
   "cell_type": "markdown",
   "metadata": {},
   "source": [
    "In this notebook we will explore the derivatives of \n",
    "different activation functions such as ReLU, Sigmoid and Tanh. \n",
    "In addition, we will explore the derivatives of the dense layer, \n",
    "some of which are already known, but there is a new derivative that needs to be explored."
   ]
  },
  {
   "cell_type": "code",
   "execution_count": 1,
   "metadata": {},
   "outputs": [
    {
     "data": {
      "text/plain": [
       "'3.13.2'"
      ]
     },
     "execution_count": 1,
     "metadata": {},
     "output_type": "execute_result"
    }
   ],
   "source": [
    "from autograd import jacobian, numpy as np\n",
    "\n",
    "from platform import python_version\n",
    "python_version()"
   ]
  },
  {
   "cell_type": "code",
   "execution_count": 2,
   "metadata": {},
   "outputs": [],
   "source": [
    "import os\n",
    "import sys\n",
    "\n",
    "# Add the module path if running locally\n",
    "module_path = os.path.abspath(os.path.join('..'))\n",
    "if module_path not in sys.path:\n",
    "    sys.path.append(module_path)\n",
    "\n",
    "try:\n",
    "    # Try importing the module normally (for local execution)\n",
    "    from tools.numpy_metrics import np_mape as mape\n",
    "except ModuleNotFoundError:\n",
    "    # If the module is not found, assume the code is running in Google Colab\n",
    "    import subprocess\n",
    "\n",
    "    repo_url = \"https://raw.githubusercontent.com/PilotLeoYan/inside-deep-learning/main/tools/numpy_metrics.py\"\n",
    "    local_file = \"numpy_metrics.py\"\n",
    "\n",
    "    # Download the missing file from GitHub\n",
    "    subprocess.run([\"wget\", repo_url, \"-O\", local_file], check=True)\n",
    "\n",
    "    # Import the module after downloading it\n",
    "    import tools\n",
    "    from numpy_metrics import np_mape as mape"
   ]
  },
  {
   "cell_type": "markdown",
   "metadata": {},
   "source": [
    "# forward propagation"
   ]
  },
  {
   "cell_type": "code",
   "execution_count": 3,
   "metadata": {},
   "outputs": [],
   "source": [
    "M: int = 100 # number of samples\n",
    "N: int = 8 # number of input features\n",
    "NO: int = 4 # number of output features"
   ]
  },
  {
   "cell_type": "code",
   "execution_count": 4,
   "metadata": {},
   "outputs": [
    {
     "data": {
      "text/plain": [
       "(100, 8)"
      ]
     },
     "execution_count": 4,
     "metadata": {},
     "output_type": "execute_result"
    }
   ],
   "source": [
    "X = np.random.randn(M, N)\n",
    "X.shape"
   ]
  },
  {
   "cell_type": "markdown",
   "metadata": {},
   "source": [
    "## dense"
   ]
  },
  {
   "cell_type": "markdown",
   "metadata": {},
   "source": [
    "### parameters"
   ]
  },
  {
   "cell_type": "markdown",
   "metadata": {},
   "source": [
    "$$\n",
    "\\begin{align*}\n",
    "\\mathbf{W}^{(k)} &\\in \\mathbb{R}^{n_{k-1} \\times n_{k}} \\\\\n",
    "\\mathbf{b}^{(k)} &\\in \\mathbb{R}^{n_{k}}\n",
    "\\end{align*}\n",
    "$$"
   ]
  },
  {
   "cell_type": "code",
   "execution_count": 5,
   "metadata": {},
   "outputs": [
    {
     "data": {
      "text/plain": [
       "(4,)"
      ]
     },
     "execution_count": 5,
     "metadata": {},
     "output_type": "execute_result"
    }
   ],
   "source": [
    "bias: np.ndarray = np.random.randn(NO)\n",
    "bias.shape"
   ]
  },
  {
   "cell_type": "code",
   "execution_count": 6,
   "metadata": {},
   "outputs": [
    {
     "data": {
      "text/plain": [
       "(8, 4)"
      ]
     },
     "execution_count": 6,
     "metadata": {},
     "output_type": "execute_result"
    }
   ],
   "source": [
    "weight: np.ndarray = np.random.randn(N, NO)\n",
    "weight.shape"
   ]
  },
  {
   "cell_type": "markdown",
   "metadata": {},
   "source": [
    "### weighted sum"
   ]
  },
  {
   "cell_type": "markdown",
   "metadata": {},
   "source": [
    "$$\n",
    "\\mathbf{Z}^{(k)} (\\mathbf{A}^{(k-1)}) =\n",
    "\\mathbf{A}^{(k-1)} \\mathbf{W}^{(k)} + \\mathbf{b}^{(k)} \\\\\n",
    "\\mathbf{Z}^{(k)} : \\mathbb{R}^{m \\times n_{k-1}} \n",
    "\\rightarrow \\mathbb{R}^{m \\times n_{k}}\n",
    "$$"
   ]
  },
  {
   "cell_type": "code",
   "execution_count": 7,
   "metadata": {},
   "outputs": [
    {
     "data": {
      "text/plain": [
       "(100, 4)"
      ]
     },
     "execution_count": 7,
     "metadata": {},
     "output_type": "execute_result"
    }
   ],
   "source": [
    "def weighted_sum(input: np.ndarray, weight: np.ndarray, \n",
    "                 bias: np.ndarray) -> np.ndarray:\n",
    "    return np.matmul(input, weight) + bias\n",
    "\n",
    "z = weighted_sum(X, weight, bias)\n",
    "z.shape"
   ]
  },
  {
   "cell_type": "markdown",
   "metadata": {},
   "source": [
    "## activation functions"
   ]
  },
  {
   "cell_type": "markdown",
   "metadata": {},
   "source": [
    "For any activation function"
   ]
  },
  {
   "cell_type": "markdown",
   "metadata": {},
   "source": [
    "$$\n",
    "\\mathbf{A}^{(k)} (\\mathbf{Z}^{(k)}) = \n",
    "f(\\mathbf{Z}^{(k)}) \\\\\n",
    "\\mathbf{A}^{(k)}: \\mathbb{R}^{m \\times n_{k}}\n",
    "\\rightarrow \\mathbb{R}^{m \\times n_{k}}\n",
    "$$"
   ]
  },
  {
   "cell_type": "markdown",
   "metadata": {},
   "source": [
    "### ReLU"
   ]
  },
  {
   "cell_type": "markdown",
   "metadata": {},
   "source": [
    "$$\n",
    "\\text{ReLU}(z) = \\max(z, 0) \\in \\mathbb{R}\n",
    "$$\n",
    "where $z \\in \\mathbb{R}$."
   ]
  },
  {
   "cell_type": "markdown",
   "metadata": {},
   "source": [
    "$$\n",
    "\\text{ReLU} (\\mathbf{Z}^{(k)}) = \n",
    "\\begin{bmatrix}\n",
    "    \\text{ReLU}(z_{11}^{(k)}) & \\cdots & \\text{ReLU}(z_{1n_{k}}^{(k)}) \\\\\n",
    "    \\vdots & \\ddots & \\vdots \\\\\n",
    "    \\text{ReLU}(z_{m1}^{(k)}) & \\cdots & \\text{ReLU}(z_{mn_{k}}^{(k)})\n",
    "\\end{bmatrix}\n",
    "$$"
   ]
  },
  {
   "cell_type": "code",
   "execution_count": 8,
   "metadata": {},
   "outputs": [
    {
     "data": {
      "text/plain": [
       "(100, 4)"
      ]
     },
     "execution_count": 8,
     "metadata": {},
     "output_type": "execute_result"
    }
   ],
   "source": [
    "def relu(z: np.ndarray) -> np.ndarray:\n",
    "    return z * (z > 0)\n",
    "\n",
    "relu_pred = relu(z)\n",
    "relu_pred.shape"
   ]
  },
  {
   "cell_type": "markdown",
   "metadata": {},
   "source": [
    "### Sigmoid"
   ]
  },
  {
   "cell_type": "markdown",
   "metadata": {},
   "source": [
    "$$\n",
    "\\text{Sigmoid}(z) = \\frac{1}{1 + \\exp(-z)}\n",
    "$$"
   ]
  },
  {
   "cell_type": "markdown",
   "metadata": {},
   "source": [
    "$$\n",
    "\\text{Sigmoid} (\\mathbf{Z}^{(k)}) = \n",
    "\\begin{bmatrix}\n",
    "    \\text{Sigmoid}(z_{11}^{(k)}) & \\cdots & \\text{Sigmoid}(z_{1n_{k}}^{(k)}) \\\\\n",
    "    \\vdots & \\ddots & \\vdots \\\\\n",
    "    \\text{Sigmoid}(z_{m1}^{(k)}) & \\cdots & \\text{Sigmoid}(z_{mn_{k}}^{(k)})\n",
    "\\end{bmatrix}\n",
    "$$"
   ]
  },
  {
   "cell_type": "code",
   "execution_count": 9,
   "metadata": {},
   "outputs": [
    {
     "data": {
      "text/plain": [
       "(100, 4)"
      ]
     },
     "execution_count": 9,
     "metadata": {},
     "output_type": "execute_result"
    }
   ],
   "source": [
    "def sigmoid(z: np.ndarray) -> np.ndarray:\n",
    "    return 1 / (1 + np.exp(-z))\n",
    "\n",
    "sigmoid_pred = sigmoid(z)\n",
    "sigmoid_pred.shape"
   ]
  },
  {
   "cell_type": "markdown",
   "metadata": {},
   "source": [
    "### Tanh"
   ]
  },
  {
   "cell_type": "markdown",
   "metadata": {},
   "source": [
    "$$\n",
    "\\tanh(z) = \\frac{1 - \\exp(-2 z)}{1 + \\exp(-2 z)}\n",
    "$$"
   ]
  },
  {
   "cell_type": "markdown",
   "metadata": {},
   "source": [
    "$$\n",
    "\\tanh (\\mathbf{Z}^{(k)}) = \n",
    "\\begin{bmatrix}\n",
    "    \\tanh(z_{11}^{(k)}) & \\cdots & \\tanh(z_{1n_{k}}^{(k)}) \\\\\n",
    "    \\vdots & \\ddots & \\vdots \\\\\n",
    "    \\tanh(z_{m1}^{(k)}) & \\cdots & \\tanh(z_{mn_{k}}^{(k)})\n",
    "\\end{bmatrix}\n",
    "$$"
   ]
  },
  {
   "cell_type": "code",
   "execution_count": 10,
   "metadata": {},
   "outputs": [
    {
     "data": {
      "text/plain": [
       "(100, 4)"
      ]
     },
     "execution_count": 10,
     "metadata": {},
     "output_type": "execute_result"
    }
   ],
   "source": [
    "def tanh(z: np.ndarray) -> np.ndarray:\n",
    "    exp = np.exp(-2 * z)\n",
    "    return (1 - exp) / (1 + exp)\n",
    "\n",
    "tanh_pred = tanh(z)\n",
    "tanh_pred.shape"
   ]
  },
  {
   "cell_type": "markdown",
   "metadata": {},
   "source": [
    "# gradients"
   ]
  },
  {
   "cell_type": "markdown",
   "metadata": {},
   "source": [
    "## activation function gradients"
   ]
  },
  {
   "cell_type": "markdown",
   "metadata": {},
   "source": [
    "For any activation function  $\\mathbf{A}$, \n",
    "its derivative with respect to the weighted sum input is"
   ]
  },
  {
   "cell_type": "markdown",
   "metadata": {},
   "source": [
    "$$\n",
    "\\frac{\\partial \\mathbf{A}^{(k)}}\n",
    "{\\partial \\mathbf{Z}^{(k)}} \\in \n",
    "\\mathbb{R}^{(m \\times n_{k}) \\times (m \\times n_{k})}\n",
    "$$"
   ]
  },
  {
   "cell_type": "markdown",
   "metadata": {},
   "source": [
    "### ReLU derivative"
   ]
  },
  {
   "cell_type": "code",
   "execution_count": 11,
   "metadata": {},
   "outputs": [
    {
     "data": {
      "text/plain": [
       "(100, 4, 100, 4)"
      ]
     },
     "execution_count": 11,
     "metadata": {},
     "output_type": "execute_result"
    }
   ],
   "source": [
    "relu_grad = jacobian(relu)(z)\n",
    "relu_grad.shape"
   ]
  },
  {
   "cell_type": "markdown",
   "metadata": {},
   "source": [
    "$$\n",
    "\\frac{\\mathrm{d} \\max(z,0)}{\\mathrm{d} z} =\n",
    "\\begin{cases}\n",
    "    1 & \\text{if } z > 0 \\\\\n",
    "    0 & \\text{if } z \\leq 0\n",
    "\\end{cases}\n",
    "$$"
   ]
  },
  {
   "cell_type": "markdown",
   "metadata": {},
   "source": [
    "$$\n",
    "\\frac{\\partial a_{pq}^{(k)}\n",
    "}{\\partial z_{ij}^{(k)}} =\n",
    "\\begin{cases}\n",
    "    \\frac{\\partial a_{ij}^{(k)}}\n",
    "    {\\partial z_{ij}^{(k)}} & \\text{ if } p=i, q=j \\\\\n",
    "    0 & \\text{ otherwise}\n",
    "\\end{cases}\n",
    "$$\n",
    "for all $p, i = 1, \\ldots, m$ and $q, j = 1, \\ldots, n_{k}$."
   ]
  },
  {
   "cell_type": "markdown",
   "metadata": {},
   "source": [
    "$$\n",
    "\\frac{\\partial a_{ij}^{(k)}}\n",
    "{\\partial z_{ij}^{(k)}} =\n",
    "\\begin{cases}\n",
    "    1 & \\text{if } z_{ij}^{(k)} > 0 \\\\\n",
    "    0 & \\text{if } z_{ij}^{(k)} \\leq 0\n",
    "\\end{cases}\n",
    "$$"
   ]
  },
  {
   "cell_type": "markdown",
   "metadata": {},
   "source": [
    "we can take advantage of the same activation output"
   ]
  },
  {
   "cell_type": "markdown",
   "metadata": {},
   "source": [
    "$$\n",
    "\\frac{\\partial a_{ij}^{(k)}}\n",
    "{\\partial z_{ij}^{(k)}} =\n",
    "\\begin{cases}\n",
    "    1 & \\text{if } a_{ij}^{(k)} > 0 \\\\\n",
    "    0 & \\text{if } a_{ij}^{(k)} \\leq 0\n",
    "\\end{cases}\n",
    "$$"
   ]
  },
  {
   "cell_type": "code",
   "execution_count": 12,
   "metadata": {},
   "outputs": [
    {
     "data": {
      "text/plain": [
       "(100, 4, 100, 4)"
      ]
     },
     "execution_count": 12,
     "metadata": {},
     "output_type": "execute_result"
    }
   ],
   "source": [
    "def relu_jacobian(relu_out: np.ndarray) -> np.ndarray:\n",
    "    m, n = relu_out.shape # m samples, n features\n",
    "    out = np.zeros((m, n, m, n))\n",
    "    for i in range(m):\n",
    "        for j in range(n):\n",
    "            out[i, j, i, j] = 1 if relu_out[i, j] > 0 else 0\n",
    "    return out\n",
    "\n",
    "my_relu_grad = relu_jacobian(relu_pred)\n",
    "my_relu_grad.shape"
   ]
  },
  {
   "cell_type": "code",
   "execution_count": 13,
   "metadata": {},
   "outputs": [
    {
     "data": {
      "text/plain": [
       "0.0"
      ]
     },
     "execution_count": 13,
     "metadata": {},
     "output_type": "execute_result"
    }
   ],
   "source": [
    "mape(\n",
    "    my_relu_grad,\n",
    "    relu_grad\n",
    ")"
   ]
  },
  {
   "cell_type": "markdown",
   "metadata": {},
   "source": [
    "### Sigmoid gradient"
   ]
  },
  {
   "cell_type": "code",
   "execution_count": 14,
   "metadata": {},
   "outputs": [
    {
     "data": {
      "text/plain": [
       "(100, 4, 100, 4)"
      ]
     },
     "execution_count": 14,
     "metadata": {},
     "output_type": "execute_result"
    }
   ],
   "source": [
    "sigmoid_grad = jacobian(sigmoid)(z)\n",
    "sigmoid_grad.shape"
   ]
  },
  {
   "cell_type": "markdown",
   "metadata": {},
   "source": [
    "$$\n",
    "\\frac{\\mathrm{d} \\text{Sigmoid}}{\\mathrm{d} z} = \n",
    "\\text{Sigmoid}(z) \\left(\n",
    "    1 - \\text{Sigmoid}(z)\n",
    "\\right)\n",
    "$$"
   ]
  },
  {
   "cell_type": "markdown",
   "metadata": {},
   "source": [
    "see **Appendix**."
   ]
  },
  {
   "cell_type": "markdown",
   "metadata": {},
   "source": [
    "$$\n",
    "\\frac{\\partial a_{pq}^{(k)}}\n",
    "{\\partial z_{ij}^{(k)}} =\n",
    "\\begin{cases}\n",
    "    a_{ij}^{(k)} (1 - a_{ij}^{(k)})\n",
    "    & \\text{if }p = i, q = j \\\\\n",
    "    0 & \\text{otherwise}\n",
    "\\end{cases}\n",
    "$$"
   ]
  },
  {
   "cell_type": "code",
   "execution_count": 15,
   "metadata": {},
   "outputs": [
    {
     "data": {
      "text/plain": [
       "(100, 4, 100, 4)"
      ]
     },
     "execution_count": 15,
     "metadata": {},
     "output_type": "execute_result"
    }
   ],
   "source": [
    "def sigmoid_jacobian(sigm_out: np.ndarray) -> np.ndarray:\n",
    "    m, n = sigm_out.shape # m samples, n features\n",
    "    out = np.zeros((m, n, m, n))\n",
    "    for i in range(m):\n",
    "        for j in range(n):\n",
    "            out[i, j, i, j] = sigm_out[i, j] * (1 - sigm_out[i, j])\n",
    "    return out\n",
    "\n",
    "my_sigmoid_grad = sigmoid_jacobian(sigmoid_pred)\n",
    "my_sigmoid_grad.shape"
   ]
  },
  {
   "cell_type": "code",
   "execution_count": 16,
   "metadata": {},
   "outputs": [
    {
     "data": {
      "text/plain": [
       "5.952583847127997e-16"
      ]
     },
     "execution_count": 16,
     "metadata": {},
     "output_type": "execute_result"
    }
   ],
   "source": [
    "mape(\n",
    "    my_sigmoid_grad,\n",
    "    sigmoid_grad\n",
    ")"
   ]
  },
  {
   "cell_type": "markdown",
   "metadata": {},
   "source": [
    "### Tanh gradient"
   ]
  },
  {
   "cell_type": "markdown",
   "metadata": {},
   "source": [
    "$$\n",
    "\\frac{\\mathrm{d} \\tanh}{\\mathrm{d} z} = \n",
    "1 - \\tanh^{2}(z)\n",
    "$$"
   ]
  },
  {
   "cell_type": "markdown",
   "metadata": {},
   "source": [
    "$$\n",
    "\\frac{\\partial a_{pq}^{(k)}}\n",
    "{\\partial z_{ij}^{(k)}} =\n",
    "\\begin{cases}\n",
    "    1 - (a_{ij}^{(k)})^{2} & \\text{if } p = i, q = j \\\\\n",
    "    0 & \\text{otherwise}\n",
    "\\end{cases}\n",
    "$$"
   ]
  },
  {
   "cell_type": "code",
   "execution_count": 17,
   "metadata": {},
   "outputs": [
    {
     "data": {
      "text/plain": [
       "(100, 4, 100, 4)"
      ]
     },
     "execution_count": 17,
     "metadata": {},
     "output_type": "execute_result"
    }
   ],
   "source": [
    "tanh_grad = jacobian(tanh)(z)\n",
    "tanh_grad.shape"
   ]
  },
  {
   "cell_type": "code",
   "execution_count": 18,
   "metadata": {},
   "outputs": [
    {
     "data": {
      "text/plain": [
       "(100, 4, 100, 4)"
      ]
     },
     "execution_count": 18,
     "metadata": {},
     "output_type": "execute_result"
    }
   ],
   "source": [
    "def tanh_jacobian(tanh_out: np.ndarray) -> np.ndarray:\n",
    "    m, n = tanh_out.shape # m samples, n features\n",
    "    out = np.zeros((m, n, m, n))\n",
    "    for i in range(m):\n",
    "        for j in range(n):\n",
    "            out[i, j, i, j] = 1 - tanh_out[i, j] ** 2\n",
    "    return out\n",
    "\n",
    "my_tanh_grad = tanh_jacobian(tanh_pred)\n",
    "my_tanh_grad.shape"
   ]
  },
  {
   "cell_type": "code",
   "execution_count": 19,
   "metadata": {},
   "outputs": [
    {
     "data": {
      "text/plain": [
       "3.303116888923083e-12"
      ]
     },
     "execution_count": 19,
     "metadata": {},
     "output_type": "execute_result"
    }
   ],
   "source": [
    "mape(\n",
    "    my_tanh_grad,\n",
    "    tanh_grad\n",
    ")"
   ]
  },
  {
   "cell_type": "markdown",
   "metadata": {},
   "source": [
    "# gradients with loss function"
   ]
  },
  {
   "cell_type": "markdown",
   "metadata": {},
   "source": [
    "Our goal is to compute"
   ]
  },
  {
   "cell_type": "markdown",
   "metadata": {},
   "source": [
    "$$\n",
    "\\frac{\\partial L}{\\partial \\mathbf{A}^{(k)}},\n",
    "\\frac{\\partial L}{\\partial \\mathbf{W}^{(k)}},\n",
    "\\frac{\\partial L}{\\partial \\mathbf{b}^{(k)}}\n",
    "$$"
   ]
  },
  {
   "cell_type": "markdown",
   "metadata": {},
   "source": [
    "## loss function"
   ]
  },
  {
   "cell_type": "markdown",
   "metadata": {},
   "source": [
    "For any loss function $L$, for example"
   ]
  },
  {
   "cell_type": "markdown",
   "metadata": {},
   "source": [
    "$$\n",
    "L(\\hat{\\mathbf{Y}}) = \n",
    "\\sum_{i=1}^{m} \n",
    "\\sum_{j=1}^{n_{\\text{o}}}\n",
    "\\hat{y}_{ij}^{2}\n",
    "$$"
   ]
  },
  {
   "cell_type": "code",
   "execution_count": 20,
   "metadata": {},
   "outputs": [],
   "source": [
    "def loss(y_pred: np.ndarray) -> float:\n",
    "    return np.sum(y_pred ** 2)"
   ]
  },
  {
   "cell_type": "markdown",
   "metadata": {},
   "source": [
    "$$\n",
    "\\frac{\\partial L}\n",
    "{\\partial \\hat{\\mathbf{Y}}} =\n",
    "2 \\hat{\\mathbf{Y}}\n",
    "$$"
   ]
  },
  {
   "cell_type": "markdown",
   "metadata": {},
   "source": [
    "## activation function gradients "
   ]
  },
  {
   "cell_type": "markdown",
   "metadata": {},
   "source": [
    "$$\n",
    "\\begin{align*}\n",
    "\\frac{\\partial L}{\\partial \\mathbf{Z}^{(k)}} &=\n",
    "{\\color{Orange} {\\frac{\\partial L}{\\partial \\mathbf{A}^{(k)}}}}\n",
    "{\\color{Cyan} {\\frac{\\partial \\mathbf{A}^{(k)}}\n",
    "{\\partial \\mathbf{Z}^{(k)}}}} \\\\\n",
    "&= {\\color{Orange} {\\mathbf{\\Delta}}}\n",
    "{\\color{Cyan} {\\frac{\\partial \\mathbf{A}^{(k)}}\n",
    "{\\partial \\mathbf{Z}^{(k)}}}}\n",
    "\\end{align*}\n",
    "$$"
   ]
  },
  {
   "cell_type": "markdown",
   "metadata": {},
   "source": [
    "### ReLU derivative"
   ]
  },
  {
   "cell_type": "code",
   "execution_count": 21,
   "metadata": {},
   "outputs": [
    {
     "data": {
      "text/plain": [
       "(100, 4)"
      ]
     },
     "execution_count": 21,
     "metadata": {},
     "output_type": "execute_result"
    }
   ],
   "source": [
    "loss_relu_grad = jacobian(lambda z: loss(relu(z)))(z)\n",
    "loss_relu_grad.shape"
   ]
  },
  {
   "cell_type": "code",
   "execution_count": 22,
   "metadata": {},
   "outputs": [
    {
     "data": {
      "text/plain": [
       "(100, 4)"
      ]
     },
     "execution_count": 22,
     "metadata": {},
     "output_type": "execute_result"
    }
   ],
   "source": [
    "delta_relu = jacobian(loss)(relu_pred)\n",
    "delta_relu.shape"
   ]
  },
  {
   "cell_type": "markdown",
   "metadata": {},
   "source": [
    "$$\n",
    "\\frac{\\partial L}{\\partial z^{(k)}_{pq}} =\n",
    "\\sum_{i=0}^{m} \\sum_{j=0}^{n_{o}}\n",
    "\\frac{\\partial L}{\\partial a_{ij}^{(k)}}\n",
    "\\frac{\\partial a_{ij}^{(k)}}{\\partial z_{pq}^{(k)}}\n",
    "$$"
   ]
  },
  {
   "cell_type": "markdown",
   "metadata": {},
   "source": [
    "For the case $i=p$ and $j=q$:"
   ]
  },
  {
   "cell_type": "markdown",
   "metadata": {},
   "source": [
    "$$\n",
    "\\frac{\\partial a_{pq}^{(k)}}\n",
    "{\\partial z_{pq}^{(k)}} =\n",
    "\\begin{cases}\n",
    "    1 & \\text{if } z_{pq}^{(k)} > 0 \\\\\n",
    "    0 & \\text{if } z_{pq}^{(k)} \\leq 0\n",
    "\\end{cases}\n",
    "$$"
   ]
  },
  {
   "cell_type": "markdown",
   "metadata": {},
   "source": [
    "For the case $i \\neq p$ or $j \\neq q$:"
   ]
  },
  {
   "cell_type": "markdown",
   "metadata": {},
   "source": [
    "$$\n",
    "\\frac{\\partial a_{ij}^{(k)}}\n",
    "{\\partial z_{pq}^{(k)}} = 0\n",
    "$$"
   ]
  },
  {
   "cell_type": "markdown",
   "metadata": {},
   "source": [
    "therefore"
   ]
  },
  {
   "cell_type": "markdown",
   "metadata": {},
   "source": [
    "$$\n",
    "\\begin{align*}\n",
    "\\frac{\\partial L}{\\partial z^{(k)}_{pq}} &=\n",
    "\\frac{\\partial L}{\\partial a_{pq}^{(k)}}\n",
    "\\frac{\\partial a_{pq}^{(k)}}{\\partial z_{pq}^{(k)}} \\\\\n",
    "&= \\delta_{pq} \\begin{cases}\n",
    "    1 & \\text{if } a_{pq}^{(k)} > 0 \\\\\n",
    "    0 & \\text{if } a_{pq}^{(k)} \\leq 0\n",
    "\\end{cases}\n",
    "\\end{align*}\n",
    "$$\n",
    "for all $p = m$ and $q = n_{k}$."
   ]
  },
  {
   "cell_type": "markdown",
   "metadata": {},
   "source": [
    "in general"
   ]
  },
  {
   "cell_type": "markdown",
   "metadata": {},
   "source": [
    "$$\n",
    "\\begin{align*}\n",
    "\\frac{\\partial L}{\\partial \\mathbf{Z}^{(k)}} &=\n",
    "\\frac{\\partial L}{\\partial \\mathbf{A}^{(k)}}\n",
    "\\odot\n",
    "\\frac{\\partial \\mathbf{A}^{(k)}}\n",
    "{\\partial \\mathbf{Z}^{(k)}} \\\\ &=\n",
    "\\mathbf{\\Delta} \\odot\n",
    "\\left(\n",
    "    \\mathbf{A}^{(k)} > 0\n",
    "\\right)\n",
    "\\end{align*}\n",
    "$$"
   ]
  },
  {
   "cell_type": "markdown",
   "metadata": {},
   "source": [
    "**Note**: Remember that we can use the same result of the\n",
    "activation function for backpropagation."
   ]
  },
  {
   "cell_type": "code",
   "execution_count": 23,
   "metadata": {},
   "outputs": [
    {
     "data": {
      "text/plain": [
       "(100, 4)"
      ]
     },
     "execution_count": 23,
     "metadata": {},
     "output_type": "execute_result"
    }
   ],
   "source": [
    "def loss_relu_der(delta: np.ndarray, relu_out: np.ndarray) -> np.ndarray:\n",
    "    return np.multiply(delta, 1 * (relu_out > 0))\n",
    "\n",
    "my_loss_relu_grad = loss_relu_der(delta_relu, relu_pred)\n",
    "my_loss_relu_grad.shape"
   ]
  },
  {
   "cell_type": "code",
   "execution_count": 24,
   "metadata": {},
   "outputs": [
    {
     "data": {
      "text/plain": [
       "0.0"
      ]
     },
     "execution_count": 24,
     "metadata": {},
     "output_type": "execute_result"
    }
   ],
   "source": [
    "mape(\n",
    "    my_loss_relu_grad,\n",
    "    loss_relu_grad\n",
    ")"
   ]
  },
  {
   "cell_type": "markdown",
   "metadata": {},
   "source": [
    "### Sigmoid"
   ]
  },
  {
   "cell_type": "code",
   "execution_count": 25,
   "metadata": {},
   "outputs": [
    {
     "data": {
      "text/plain": [
       "(100, 4)"
      ]
     },
     "execution_count": 25,
     "metadata": {},
     "output_type": "execute_result"
    }
   ],
   "source": [
    "loss_sigmoid_grad = jacobian(lambda z: loss(sigmoid(z)))(z)\n",
    "loss_sigmoid_grad.shape"
   ]
  },
  {
   "cell_type": "code",
   "execution_count": 26,
   "metadata": {},
   "outputs": [
    {
     "data": {
      "text/plain": [
       "(100, 4)"
      ]
     },
     "execution_count": 26,
     "metadata": {},
     "output_type": "execute_result"
    }
   ],
   "source": [
    "delta_sigmoid = jacobian(loss)(sigmoid_pred)\n",
    "delta_sigmoid.shape"
   ]
  },
  {
   "cell_type": "markdown",
   "metadata": {},
   "source": [
    "$$\n",
    "\\frac{\\partial L}{\\partial z^{(k)}_{pq}} =\n",
    "\\sum_{i=0}^{m} \\sum_{j=0}^{n_{o}}\n",
    "\\frac{\\partial L}{\\partial a_{ij}^{(k)}}\n",
    "\\frac{\\partial a_{ij}^{(k)}}{\\partial z_{pq}^{(k)}}\n",
    "$$"
   ]
  },
  {
   "cell_type": "markdown",
   "metadata": {},
   "source": [
    "For the case $i=p$ and $j=q$:"
   ]
  },
  {
   "cell_type": "markdown",
   "metadata": {},
   "source": [
    "$$\n",
    "\\frac{\\partial a_{pq}^{(k)}}\n",
    "{\\partial z_{pq}^{(k)}} =\n",
    "a_{pq}^{(k)} \\left(\n",
    "    1 - a_{pq}^{(k)}\n",
    "\\right)\n",
    "$$"
   ]
  },
  {
   "cell_type": "markdown",
   "metadata": {},
   "source": [
    "For the case $i \\neq p$ or $j \\neq q$:"
   ]
  },
  {
   "cell_type": "markdown",
   "metadata": {},
   "source": [
    "$$\n",
    "\\frac{\\partial a_{ij}^{(k)}}\n",
    "{\\partial z_{pq}^{(k)}} = 0\n",
    "$$"
   ]
  },
  {
   "cell_type": "markdown",
   "metadata": {},
   "source": [
    "therefore"
   ]
  },
  {
   "cell_type": "markdown",
   "metadata": {},
   "source": [
    "$$\n",
    "\\begin{align*}\n",
    "\\frac{\\partial L}{\\partial z^{(k)}_{pq}} &=\n",
    "\\frac{\\partial L}{\\partial a_{pq}^{(k)}}\n",
    "\\frac{\\partial a_{pq}^{(k)}}{\\partial z_{pq}^{(k)}} \\\\\n",
    "&= \\delta_{pq} \\left(\n",
    "    a_{pq}^{(k)} \\left(\n",
    "    1 - a_{pq}^{(k)}\n",
    "\\right)\n",
    "\\right)\n",
    "\\end{align*}\n",
    "$$\n",
    "for all $p = m$ and $q = n_{k}$."
   ]
  },
  {
   "cell_type": "markdown",
   "metadata": {},
   "source": [
    "in general"
   ]
  },
  {
   "cell_type": "markdown",
   "metadata": {},
   "source": [
    "$$\n",
    "\\begin{align*}\n",
    "\\frac{\\partial L}{\\partial \\mathbf{Z}^{(k)}} &=\n",
    "\\frac{\\partial L}{\\partial \\mathbf{A}^{(k)}}\n",
    "\\odot\n",
    "\\frac{\\partial \\mathbf{A}^{(k)}}\n",
    "{\\partial \\mathbf{Z}^{(k)}} \\\\ &=\n",
    "\\mathbf{\\Delta} \\odot\n",
    "\\left(\n",
    "    \\mathbf{A}^{(k)} \\left(\n",
    "        \\mathbf{1} - \\mathbf{A}^{(k)}\n",
    "    \\right)\n",
    "\\right)\n",
    "\\end{align*}\n",
    "$$"
   ]
  },
  {
   "cell_type": "code",
   "execution_count": 27,
   "metadata": {},
   "outputs": [
    {
     "data": {
      "text/plain": [
       "(100, 4)"
      ]
     },
     "execution_count": 27,
     "metadata": {},
     "output_type": "execute_result"
    }
   ],
   "source": [
    "def loss_sigmoid_der(delta: np.ndarray, sigm_out: np.ndarray) -> np.ndarray:\n",
    "    return np.multiply(delta, sigm_out * (1 - sigm_out))\n",
    "\n",
    "my_loss_sigmoid_grad = loss_sigmoid_der(delta_sigmoid, sigmoid_pred)\n",
    "my_loss_sigmoid_grad.shape"
   ]
  },
  {
   "cell_type": "code",
   "execution_count": 28,
   "metadata": {},
   "outputs": [
    {
     "data": {
      "text/plain": [
       "2.3838238097207474e-13"
      ]
     },
     "execution_count": 28,
     "metadata": {},
     "output_type": "execute_result"
    }
   ],
   "source": [
    "mape(\n",
    "    my_loss_sigmoid_grad,\n",
    "    loss_sigmoid_grad\n",
    ")"
   ]
  },
  {
   "cell_type": "markdown",
   "metadata": {},
   "source": [
    "### Tanh"
   ]
  },
  {
   "cell_type": "code",
   "execution_count": 29,
   "metadata": {},
   "outputs": [
    {
     "data": {
      "text/plain": [
       "(100, 4)"
      ]
     },
     "execution_count": 29,
     "metadata": {},
     "output_type": "execute_result"
    }
   ],
   "source": [
    "loss_tanh_grad = jacobian(lambda z: loss(tanh(z)))(z)\n",
    "loss_tanh_grad.shape"
   ]
  },
  {
   "cell_type": "code",
   "execution_count": 30,
   "metadata": {},
   "outputs": [
    {
     "data": {
      "text/plain": [
       "(100, 4)"
      ]
     },
     "execution_count": 30,
     "metadata": {},
     "output_type": "execute_result"
    }
   ],
   "source": [
    "delta_tanh = jacobian(loss)(tanh_pred)\n",
    "delta_tanh.shape"
   ]
  },
  {
   "cell_type": "markdown",
   "metadata": {},
   "source": [
    "$$\n",
    "\\frac{\\partial L}{\\partial z^{(k)}_{pq}} =\n",
    "\\sum_{i=0}^{m} \\sum_{j=0}^{n_{o}}\n",
    "\\frac{\\partial L}{\\partial a_{ij}^{(k)}}\n",
    "\\frac{\\partial a_{ij}^{(k)}}{\\partial z_{pq}^{(k)}}\n",
    "$$"
   ]
  },
  {
   "cell_type": "markdown",
   "metadata": {},
   "source": [
    "For the case $i=p$ and $j=q$:"
   ]
  },
  {
   "cell_type": "markdown",
   "metadata": {},
   "source": [
    "$$\n",
    "\\frac{\\partial a_{pq}^{(k)}}\n",
    "{\\partial z_{pq}^{(k)}} =\n",
    "1 - (a_{pq}^{(k)})^{2}\n",
    "$$"
   ]
  },
  {
   "cell_type": "markdown",
   "metadata": {},
   "source": [
    "For the case $i \\neq p$ or $j \\neq q$:"
   ]
  },
  {
   "cell_type": "markdown",
   "metadata": {},
   "source": [
    "$$\n",
    "\\frac{\\partial a_{ij}^{(k)}}\n",
    "{\\partial z_{pq}^{(k)}} = 0\n",
    "$$"
   ]
  },
  {
   "cell_type": "markdown",
   "metadata": {},
   "source": [
    "therefore"
   ]
  },
  {
   "cell_type": "markdown",
   "metadata": {},
   "source": [
    "$$\n",
    "\\begin{align*}\n",
    "\\frac{\\partial L}{\\partial z^{(k)}_{pq}} &=\n",
    "\\frac{\\partial L}{\\partial a_{pq}^{(k)}}\n",
    "\\frac{\\partial a_{pq}^{(k)}}{\\partial z_{pq}^{(k)}} \\\\\n",
    "&= \\delta_{pq} \\left(\n",
    "    1 - (a_{pq}^{(k)})^{2}\n",
    "\\right)\n",
    "\\end{align*}\n",
    "$$\n",
    "for all $p = m$ and $q = n_{k}$."
   ]
  },
  {
   "cell_type": "markdown",
   "metadata": {},
   "source": [
    "in general"
   ]
  },
  {
   "cell_type": "markdown",
   "metadata": {},
   "source": [
    "$$\n",
    "\\begin{align*}\n",
    "\\frac{\\partial L}{\\partial \\mathbf{Z}^{(k)}} &=\n",
    "\\frac{\\partial L}{\\partial \\mathbf{A}^{(k)}}\n",
    "\\odot\n",
    "\\frac{\\partial \\mathbf{A}^{(k)}}\n",
    "{\\partial \\mathbf{Z}^{(k)}} \\\\ &=\n",
    "\\mathbf{\\Delta} \\odot\n",
    "\\left(\n",
    "    \\mathbf{1} -\n",
    "    \\left(\n",
    "        \\mathbf{A}^{(k)}\n",
    "    \\right)^{2}\n",
    "\\right)\n",
    "\\end{align*}\n",
    "$$"
   ]
  },
  {
   "cell_type": "code",
   "execution_count": 31,
   "metadata": {},
   "outputs": [
    {
     "data": {
      "text/plain": [
       "(100, 4)"
      ]
     },
     "execution_count": 31,
     "metadata": {},
     "output_type": "execute_result"
    }
   ],
   "source": [
    "def loss_tanh_der(delta: np.ndarray, tanh_out: np.ndarray) -> np.ndarray:\n",
    "    return np.multiply(delta, (1 - tanh_out ** 2))\n",
    "\n",
    "my_loss_tanh_grad = loss_tanh_der(delta_tanh, tanh_pred)\n",
    "my_loss_tanh_grad.shape"
   ]
  },
  {
   "cell_type": "code",
   "execution_count": 32,
   "metadata": {},
   "outputs": [
    {
     "data": {
      "text/plain": [
       "1.902816652223852e-09"
      ]
     },
     "execution_count": 32,
     "metadata": {},
     "output_type": "execute_result"
    }
   ],
   "source": [
    "mape(\n",
    "    my_loss_tanh_grad,\n",
    "    loss_tanh_grad\n",
    ")"
   ]
  },
  {
   "cell_type": "markdown",
   "metadata": {},
   "source": [
    "## dense gradients"
   ]
  },
  {
   "cell_type": "markdown",
   "metadata": {},
   "source": [
    "In this section we will only use the ReLU function because we \n",
    "don't want to repeat the same code for each activation function, \n",
    "and Sigmoid and Tanh have vanishing gradients."
   ]
  },
  {
   "cell_type": "markdown",
   "metadata": {},
   "source": [
    "$$\n",
    "{\\color{Cyan} {\\frac{\\partial L}\n",
    "{\\partial \\mathbf{Z}^{(k)}}}} =\n",
    "{\\color{Cyan} {\\mathbf{\\Delta}}}\n",
    "$$"
   ]
  },
  {
   "cell_type": "markdown",
   "metadata": {},
   "source": [
    "### bias gradient"
   ]
  },
  {
   "cell_type": "code",
   "execution_count": 33,
   "metadata": {},
   "outputs": [
    {
     "data": {
      "text/plain": [
       "(4,)"
      ]
     },
     "execution_count": 33,
     "metadata": {},
     "output_type": "execute_result"
    }
   ],
   "source": [
    "bias_relu_grad = jacobian(lambda b: loss(relu(weighted_sum(X, weight, b))))(bias)\n",
    "bias_relu_grad.shape"
   ]
  },
  {
   "cell_type": "markdown",
   "metadata": {},
   "source": [
    "$$\n",
    "\\frac{\\partial L}{\\partial \\mathbf{b}^{(k)}} =\n",
    "\\mathbf{1 \\Delta}\n",
    "$$\n",
    "where $\\mathbf{1} \\in \\mathbb{R}^{m}$."
   ]
  },
  {
   "cell_type": "code",
   "execution_count": 34,
   "metadata": {},
   "outputs": [
    {
     "data": {
      "text/plain": [
       "(4,)"
      ]
     },
     "execution_count": 34,
     "metadata": {},
     "output_type": "execute_result"
    }
   ],
   "source": [
    "my_bias_relu_grad = np.sum(my_loss_relu_grad, axis=0)\n",
    "my_bias_relu_grad.shape"
   ]
  },
  {
   "cell_type": "code",
   "execution_count": 35,
   "metadata": {},
   "outputs": [
    {
     "data": {
      "text/plain": [
       "0.0"
      ]
     },
     "execution_count": 35,
     "metadata": {},
     "output_type": "execute_result"
    }
   ],
   "source": [
    "mape(\n",
    "    my_bias_relu_grad,\n",
    "    bias_relu_grad\n",
    ")"
   ]
  },
  {
   "cell_type": "markdown",
   "metadata": {},
   "source": [
    "### weight gradient"
   ]
  },
  {
   "cell_type": "code",
   "execution_count": 36,
   "metadata": {},
   "outputs": [
    {
     "data": {
      "text/plain": [
       "(8, 4)"
      ]
     },
     "execution_count": 36,
     "metadata": {},
     "output_type": "execute_result"
    }
   ],
   "source": [
    "weight_relu_grad = jacobian(lambda w: loss(relu(weighted_sum(X, w, bias))))(weight)\n",
    "weight_relu_grad.shape"
   ]
  },
  {
   "cell_type": "markdown",
   "metadata": {},
   "source": [
    "$$\n",
    "\\frac{\\partial L}{\\partial \\mathbf{W}^{(k)}} =\n",
    "(\\mathbf{A}^{(k-1)})^{\\top}\n",
    "\\mathbf{\\Delta}\n",
    "$$\n",
    "where $\\mathbf{A}^{(k-1)} \\in \\mathbb{R}^{m \\times  n_{k-1}}$."
   ]
  },
  {
   "cell_type": "code",
   "execution_count": 37,
   "metadata": {},
   "outputs": [
    {
     "data": {
      "text/plain": [
       "(8, 4)"
      ]
     },
     "execution_count": 37,
     "metadata": {},
     "output_type": "execute_result"
    }
   ],
   "source": [
    "my_weight_relu_grad = X.T @ my_loss_relu_grad\n",
    "my_weight_relu_grad.shape"
   ]
  },
  {
   "cell_type": "code",
   "execution_count": 38,
   "metadata": {},
   "outputs": [
    {
     "data": {
      "text/plain": [
       "0.0"
      ]
     },
     "execution_count": 38,
     "metadata": {},
     "output_type": "execute_result"
    }
   ],
   "source": [
    "mape(\n",
    "    my_weight_relu_grad,\n",
    "    weight_relu_grad\n",
    ")"
   ]
  },
  {
   "cell_type": "markdown",
   "metadata": {},
   "source": [
    "### input gradient"
   ]
  },
  {
   "cell_type": "code",
   "execution_count": 39,
   "metadata": {},
   "outputs": [
    {
     "data": {
      "text/plain": [
       "(100, 8)"
      ]
     },
     "execution_count": 39,
     "metadata": {},
     "output_type": "execute_result"
    }
   ],
   "source": [
    "input_relu_grad = jacobian(lambda x: loss(relu(weighted_sum(x, weight, bias))))(X)\n",
    "input_relu_grad.shape"
   ]
  },
  {
   "cell_type": "markdown",
   "metadata": {},
   "source": [
    "$$\n",
    "\\frac{\\partial L}{\\partial a_{pq}^{(k-1)}} =\n",
    "\\sum_{i=1}^{m} \\sum_{j=1}^{n_{o}}\n",
    "\\frac{\\partial L}{\\partial z_{ij}^{(k)}}\n",
    "\\frac{\\partial z_{ij}^{(k)}}{\\partial a_{pq}^{(k-1)}}\n",
    "$$"
   ]
  },
  {
   "cell_type": "markdown",
   "metadata": {},
   "source": [
    "$$\n",
    "\\frac{\\partial z_{ij}^{(k)}}{\\partial a_{pq}^{(k-1)}} =\n",
    "\\begin{cases}\n",
    "    w_{qj}^{(k)} & \\text{if } i=p \\\\\n",
    "    0 & \\text{if } i \\neq q\n",
    "\\end{cases}\n",
    "$$"
   ]
  },
  {
   "cell_type": "markdown",
   "metadata": {},
   "source": [
    "therefore"
   ]
  },
  {
   "cell_type": "markdown",
   "metadata": {},
   "source": [
    "$$\n",
    "\\begin{align*}\n",
    "\\frac{\\partial L}{\\partial a_{pq}^{(k-1)}} &=\n",
    "\\sum_{j=1}^{n_{o}}\n",
    "\\frac{\\partial L}{\\partial z_{pj}^{(k)}}\n",
    "\\frac{\\partial z_{pj}^{(k)}}{\\partial a_{pq}^{(k-1)}} \\\\\n",
    "&= \\delta_{p,:} \\left(\n",
    " w_{q,:}^{(k)}\n",
    "\\right)^{\\top}\n",
    "\\end{align*}\n",
    "$$\n",
    "for all $p=1, \\ldots, m$ and $q = 1, \\ldots, n_{k-1}$."
   ]
  },
  {
   "cell_type": "markdown",
   "metadata": {},
   "source": [
    "in general"
   ]
  },
  {
   "cell_type": "markdown",
   "metadata": {},
   "source": [
    "$$\n",
    "\\frac{\\partial L}{\\partial \\mathbf{A}^{(k-1)}} =\n",
    "\\mathbf{\\Delta} \\left(\n",
    "    \\mathbf{W}^{(k)}\n",
    "\\right)^{\\top}\n",
    "$$"
   ]
  },
  {
   "cell_type": "code",
   "execution_count": 40,
   "metadata": {},
   "outputs": [
    {
     "data": {
      "text/plain": [
       "(100, 8)"
      ]
     },
     "execution_count": 40,
     "metadata": {},
     "output_type": "execute_result"
    }
   ],
   "source": [
    "my_input_relu_grad = my_loss_relu_grad @ weight.T\n",
    "my_input_relu_grad.shape"
   ]
  },
  {
   "cell_type": "code",
   "execution_count": 41,
   "metadata": {},
   "outputs": [
    {
     "data": {
      "text/plain": [
       "0.0"
      ]
     },
     "execution_count": 41,
     "metadata": {},
     "output_type": "execute_result"
    }
   ],
   "source": [
    "mape(\n",
    "    my_input_relu_grad,\n",
    "    input_relu_grad\n",
    ")"
   ]
  },
  {
   "cell_type": "markdown",
   "metadata": {},
   "source": [
    "# Vanishing Gradients"
   ]
  },
  {
   "cell_type": "markdown",
   "metadata": {},
   "source": [
    "The leakage gradient problem is a phenomenon that occurs during training. \n",
    "It occurs when the gradients used to update the network are very small, \n",
    "making it difficult for the network to efficiently update its weights. \n",
    "This is a numerical stability problem."
   ]
  },
  {
   "cell_type": "code",
   "execution_count": 42,
   "metadata": {},
   "outputs": [],
   "source": [
    "from matplotlib import pyplot as plt"
   ]
  },
  {
   "cell_type": "code",
   "execution_count": 43,
   "metadata": {},
   "outputs": [
    {
     "data": {
      "text/plain": [
       "(161,)"
      ]
     },
     "execution_count": 43,
     "metadata": {},
     "output_type": "execute_result"
    }
   ],
   "source": [
    "x = np.arange(-8.0, 8.1, 0.1)\n",
    "x.shape"
   ]
  },
  {
   "cell_type": "code",
   "execution_count": 44,
   "metadata": {},
   "outputs": [],
   "source": [
    "ones = np.ones_like(x)"
   ]
  },
  {
   "cell_type": "markdown",
   "metadata": {},
   "source": [
    "## ReLU"
   ]
  },
  {
   "cell_type": "code",
   "execution_count": 45,
   "metadata": {},
   "outputs": [],
   "source": [
    "relu_out = relu(x)\n",
    "relu_der = loss_relu_der(ones, relu_out)"
   ]
  },
  {
   "cell_type": "code",
   "execution_count": 46,
   "metadata": {},
   "outputs": [
    {
     "data": {
      "image/png": "[encoded data removed]",
      "text/plain": [
       "<Figure size 640x480 with 1 Axes>"
      ]
     },
     "metadata": {},
     "output_type": "display_data"
    }
   ],
   "source": [
    "plt.plot(x, relu_out, label='ReLU')\n",
    "plt.plot(x, relu_der, label='gradient')\n",
    "plt.grid(True)\n",
    "plt.legend()\n",
    "plt.show()"
   ]
  },
  {
   "cell_type": "markdown",
   "metadata": {},
   "source": [
    "## Softmax"
   ]
  },
  {
   "cell_type": "code",
   "execution_count": 47,
   "metadata": {},
   "outputs": [],
   "source": [
    "soft_out = sigmoid(x)\n",
    "soft_der = loss_sigmoid_der(ones, soft_out)"
   ]
  },
  {
   "cell_type": "code",
   "execution_count": 48,
   "metadata": {},
   "outputs": [
    {
     "data": {
      "image/png": "[encoded data removed]",
      "text/plain": [
       "<Figure size 640x480 with 1 Axes>"
      ]
     },
     "metadata": {},
     "output_type": "display_data"
    }
   ],
   "source": [
    "plt.plot(x, soft_out, label='sigmoid')\n",
    "plt.plot(x, soft_der, label='gradient')\n",
    "plt.grid(True)\n",
    "plt.legend()\n",
    "plt.show()"
   ]
  },
  {
   "cell_type": "markdown",
   "metadata": {},
   "source": [
    "## Tanh"
   ]
  },
  {
   "cell_type": "code",
   "execution_count": 49,
   "metadata": {},
   "outputs": [],
   "source": [
    "tanh_out = tanh(x)\n",
    "tanh_der = loss_tanh_der(ones, tanh_out)"
   ]
  },
  {
   "cell_type": "code",
   "execution_count": 50,
   "metadata": {},
   "outputs": [
    {
     "data": {
      "image/png": "[encoded data removed]",
      "text/plain": [
       "<Figure size 640x480 with 1 Axes>"
      ]
     },
     "metadata": {},
     "output_type": "display_data"
    }
   ],
   "source": [
    "plt.plot(x, tanh_out, label='tanh')\n",
    "plt.plot(x, tanh_der, label='gradient')\n",
    "plt.grid(True)\n",
    "plt.legend()\n",
    "plt.show()"
   ]
  },
  {
   "cell_type": "markdown",
   "metadata": {},
   "source": [
    "We can observe that the sigmoid and tanh gradients tend to be $0$\n",
    "when the inputs are at the edges. \n",
    "ReLU is the most numerically stable of these functions."
   ]
  },
  {
   "cell_type": "markdown",
   "metadata": {},
   "source": [
    "# Appendix"
   ]
  },
  {
   "cell_type": "markdown",
   "metadata": {},
   "source": [
    "$$\n",
    "\\begin{align*}\n",
    "\\frac{\\mathrm{d} \\text{Sigmoid}}{\\mathrm{d} z}\n",
    "&= \\frac{\\exp(-z)}{\\left(1 + \\exp(-z) \\right)^{2}} \\\\\n",
    "&= \\frac{1}{1 + \\exp(-z)} \\left(\n",
    "    \\frac{\\exp(-z)}{1 + \\exp(-z)}\n",
    "\\right) \\\\\n",
    "&= \\frac{1}{1 + \\exp(-z)} \\left(\n",
    "    \\frac{1 + \\exp(-z)}{1 + \\exp(-z)} -\n",
    "    \\frac{1}{1 + \\exp(-z)}\n",
    "\\right) \\\\\n",
    "&= \\frac{1}{1 + \\exp(-z)} \\left(\n",
    "    1 - \\frac{1}{1 + \\exp(-z)}\n",
    "\\right) \\\\\n",
    "&= \\text{Sigmoid}(z) \\left(1 - \\text{Sigmoid}(z) \\right)\n",
    "\\end{align*}\n",
    "$$"
   ]
  }
 ],
 "metadata": {
  "kernelspec": {
   "display_name": "idl-venv",
   "language": "python",
   "name": "python3"
  },
  "language_info": {
   "codemirror_mode": {
    "name": "ipython",
    "version": 3
   },
   "file_extension": ".py",
   "mimetype": "text/x-python",
   "name": "python",
   "nbconvert_exporter": "python",
   "pygments_lexer": "ipython3",
   "version": "3.13.2"
  }
 },
 "nbformat": 4,
 "nbformat_minor": 2
}
